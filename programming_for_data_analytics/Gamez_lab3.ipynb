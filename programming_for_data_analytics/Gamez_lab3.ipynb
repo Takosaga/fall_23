{
  "cells": [
    {
      "cell_type": "markdown",
      "id": "88ab8900",
      "metadata": {
        "id": "88ab8900"
      },
      "source": [
        "# Python for Data Analytics\n",
        "## Week 3 lab: Functions, Libraries, Files"
      ]
    },
    {
      "cell_type": "markdown",
      "id": "e6722493",
      "metadata": {
        "id": "e6722493"
      },
      "source": [
        "### EXERCISE 1\n",
        "\n",
        "Write a function _info_ that returns information about the argument:\n",
        "\n",
        "* type\n",
        "* size in the memory\n",
        "* length (for sequence objects)\n",
        "* hash (if hashable)\n",
        "\n",
        "Test the function for the following types of objects: bool, str, int, float, list, tuple, dict, set"
      ]
    },
    {
      "cell_type": "code",
      "execution_count": 32,
      "id": "e745d67e",
      "metadata": {
        "id": "e745d67e"
      },
      "outputs": [],
      "source": [
        "# YOUR CODE HERE:\n",
        "import sys\n",
        "def info(obj) -> str:\n",
        "\n",
        "    info = f\"{obj} is a \"\n",
        "\n",
        "    #slicing for type\n",
        "    info += str(type(obj)).split(\"'\")[1] + \" \"\n",
        "\n",
        "    #finding size in memory\n",
        "    info += \"with a size of \" + str(sys.getsizeof(obj)) + \" bytes in memory \"\n",
        "\n",
        "    #checking if a sequence object then providing length\n",
        "    if isinstance(obj,(int,float,bool)):\n",
        "        info += \"and is not a sequence object \"\n",
        "    else:\n",
        "        info += \"and is a sequence object with a length of \" + str(len(obj)) + \" \"\n",
        "\n",
        "    #checking if hashable obj\n",
        "    try:\n",
        "        hash(obj)\n",
        "        info += \"also is hashable.\"\n",
        "    except TypeError:\n",
        "        info += \"also is not hashable.\"\n",
        "    return(info)"
      ]
    },
    {
      "cell_type": "code",
      "execution_count": 33,
      "id": "4b314408",
      "metadata": {},
      "outputs": [
        {
          "name": "stdout",
          "output_type": "stream",
          "text": [
            "test is a str with a size of 53 bytes in memory and is a sequence object with a length of 4 also is hashable.\n",
            "True is a bool with a size of 28 bytes in memory and is not a sequence object also is hashable.\n",
            "3 is a int with a size of 28 bytes in memory and is not a sequence object also is hashable.\n",
            "3.2 is a float with a size of 24 bytes in memory and is not a sequence object also is hashable.\n",
            "['test', 'True', 3, 3.2] is a list with a size of 120 bytes in memory and is a sequence object with a length of 4 also is not hashable.\n",
            "('test', 'True', 3, 3.2) is a tuple with a size of 72 bytes in memory and is a sequence object with a length of 4 also is hashable.\n",
            "{'test': True, 3: 3.2} is a dict with a size of 232 bytes in memory and is a sequence object with a length of 2 also is not hashable.\n",
            "{3.2, 'True', 3, 'test'} is a set with a size of 216 bytes in memory and is a sequence object with a length of 4 also is not hashable.\n"
          ]
        }
      ],
      "source": [
        "print(info(\"test\"))\n",
        "print(info(True))\n",
        "print(info(3))\n",
        "print(info(3.2))\n",
        "print(info([\"test\",\"True\",3,3.2]))\n",
        "print(info((\"test\",\"True\",3,3.2)))\n",
        "print(info({\"test\":True, 3: 3.2}))\n",
        "print(info(set([\"test\",\"True\",3,3.2])))"
      ]
    },
    {
      "cell_type": "markdown",
      "id": "a0b64da3",
      "metadata": {
        "id": "a0b64da3"
      },
      "source": [
        "### EXERCISE 2\n",
        "\n",
        "Extende the previous function to support lists, sets and tupples - it should provide info on all object in a collection argument."
      ]
    },
    {
      "cell_type": "code",
      "execution_count": 42,
      "id": "b4f12e28",
      "metadata": {
        "id": "b4f12e28"
      },
      "outputs": [],
      "source": [
        "# YOUR CODE HERE:\n",
        "def more_info(obj):\n",
        "    collection = obj\n",
        "    for item in collection:\n",
        "        print(info(item))\n"
      ]
    },
    {
      "cell_type": "code",
      "execution_count": 43,
      "id": "283ec7d8",
      "metadata": {},
      "outputs": [
        {
          "name": "stdout",
          "output_type": "stream",
          "text": [
            "test is a str with a size of 53 bytes in memory and is a sequence object with a length of 4 also is hashable.\n",
            "True is a str with a size of 53 bytes in memory and is a sequence object with a length of 4 also is hashable.\n",
            "3 is a int with a size of 28 bytes in memory and is not a sequence object also is hashable.\n",
            "3.2 is a float with a size of 24 bytes in memory and is not a sequence object also is hashable.\n"
          ]
        }
      ],
      "source": [
        "more_info([\"test\",\"True\",3,3.2])\n"
      ]
    },
    {
      "cell_type": "markdown",
      "id": "33e464ac",
      "metadata": {
        "id": "33e464ac"
      },
      "source": [
        "### EXERCISE 3\n",
        "\n",
        "Write a programme that returns a list of first _n_ powers of 2:\n",
        "\n",
        "get_list_2(5)\n",
        "\n",
        "returns\n",
        "\n",
        "2, 4, 8, 16, 32\n"
      ]
    },
    {
      "cell_type": "code",
      "execution_count": 137,
      "id": "89c9bdc0",
      "metadata": {
        "id": "89c9bdc0"
      },
      "outputs": [],
      "source": [
        "# YOUR CODE HERE:\n",
        "def get_list_2(n):\n",
        "    powers = []\n",
        "    for i in range(1,n+1):\n",
        "        powers.append(2**i)\n",
        "    return powers"
      ]
    },
    {
      "cell_type": "code",
      "execution_count": 141,
      "id": "7a8380f7",
      "metadata": {},
      "outputs": [
        {
          "data": {
            "text/plain": [
              "[2, 4, 8, 16, 32]"
            ]
          },
          "execution_count": 141,
          "metadata": {},
          "output_type": "execute_result"
        }
      ],
      "source": [
        "get_list_2(5)"
      ]
    },
    {
      "cell_type": "markdown",
      "id": "80fdefb0",
      "metadata": {
        "id": "80fdefb0"
      },
      "source": [
        "### EXERCISE 4\n",
        "\n",
        "Write a programme that returns a list of powers of 2 between two specified arguments:\n",
        "\n",
        "get_list_b(5, 50)\n",
        "\n",
        "returns\n",
        "\n",
        "8, 16, 32"
      ]
    },
    {
      "cell_type": "code",
      "execution_count": 165,
      "id": "8fe2f436",
      "metadata": {
        "id": "8fe2f436"
      },
      "outputs": [],
      "source": [
        "# YOUR CODE HERE:\n",
        "import math\n",
        "def get_list_b(first, second):\n",
        "    powers = get_list_2(int(math.log2(second)))\n",
        "    position = 0\n",
        "    for power in powers:\n",
        "        if power > first:\n",
        "            position = powers.index(power)\n",
        "            break\n",
        "    return powers[position:]"
      ]
    },
    {
      "cell_type": "code",
      "execution_count": 168,
      "id": "e53e8af9",
      "metadata": {},
      "outputs": [
        {
          "data": {
            "text/plain": [
              "[32,\n",
              " 64,\n",
              " 128,\n",
              " 256,\n",
              " 512,\n",
              " 1024,\n",
              " 2048,\n",
              " 4096,\n",
              " 8192,\n",
              " 16384,\n",
              " 32768,\n",
              " 65536,\n",
              " 131072,\n",
              " 262144,\n",
              " 524288,\n",
              " 1048576,\n",
              " 2097152,\n",
              " 4194304,\n",
              " 8388608,\n",
              " 16777216,\n",
              " 33554432]"
            ]
          },
          "execution_count": 168,
          "metadata": {},
          "output_type": "execute_result"
        }
      ],
      "source": [
        "get_list_b(30,50000000)"
      ]
    },
    {
      "cell_type": "markdown",
      "id": "fdd73426",
      "metadata": {
        "id": "fdd73426"
      },
      "source": [
        "### EXERCISE 5\n",
        "\n",
        "The presentation notebook \"3.2. Files\" defines a function _print_file_head_ that prints the specified number of first symbols in the file. Write a function _print_file_tail_ that prints the specified number of last symbols in the file."
      ]
    },
    {
      "cell_type": "code",
      "execution_count": 3,
      "id": "0e4e5fa5",
      "metadata": {
        "id": "0e4e5fa5"
      },
      "outputs": [],
      "source": [
        "# YOUR CODE HERE:\n",
        "def print_file_tail(filename, count = 500):\n",
        "    text = \"\"\n",
        "    with open(filename, \"r\", encoding='utf-8',) as file:\n",
        "        for line in file:\n",
        "            text += \" \" + str(line)\n",
        "    print(\"...\\n\\n\")\n",
        "    print(text[-count:])\n"
      ]
    },
    {
      "cell_type": "code",
      "execution_count": 4,
      "id": "729c79f0",
      "metadata": {},
      "outputs": [
        {
          "name": "stdout",
          "output_type": "stream",
          "text": [
            "...\n",
            "\n",
            "\n",
            "right and eager\n",
            " with many a strange tale, perhaps even with the dream of\n",
            " Wonderland of long ago:  and how she would feel with all their\n",
            " simple sorrows, and find a pleasure in all their simple joys,\n",
            " remembering her own child-life, and the happy summer days.\n",
            " \n",
            "                              THE END\n"
          ]
        }
      ],
      "source": [
        "print_file_tail('week3_files/alice_in_wonderland.txt',300)"
      ]
    },
    {
      "cell_type": "markdown",
      "id": "bfe0a58b",
      "metadata": {
        "id": "bfe0a58b"
      },
      "source": [
        "### EXERCISE 6\n",
        "\n",
        "Write a function that returns the most frequently used word in the text argument"
      ]
    },
    {
      "cell_type": "code",
      "execution_count": 65,
      "id": "7e3d2196",
      "metadata": {
        "id": "7e3d2196"
      },
      "outputs": [],
      "source": [
        "# YOUR CODE HERE:\n",
        "import re\n",
        "def most_used_words(text):\n",
        "    text=re.sub(r'[^A-Za-z ]+', '', text).lower().split()\n",
        "    words = set(text)\n",
        "    word_stat = {}\n",
        "    for word in words:\n",
        "        word_stat[word] = text.count(word)\n",
        "    word_stat = sorted(word_stat.items(), key=lambda x: x[1], reverse=True)\n",
        "    return word_stat[0]\n",
        "\n"
      ]
    },
    {
      "cell_type": "code",
      "execution_count": 67,
      "id": "300e6fae",
      "metadata": {},
      "outputs": [
        {
          "name": "stdout",
          "output_type": "stream",
          "text": [
            "('of', 3)\n"
          ]
        }
      ],
      "source": [
        "print(most_used_words(\"example of text goes here of which uses the word of the most times \"))"
      ]
    },
    {
      "cell_type": "markdown",
      "id": "596c1db5",
      "metadata": {
        "id": "596c1db5"
      },
      "source": [
        "### EXERCISE 7\n",
        "\n",
        "Write a function that use a list argument and returns a dictionary, where every list element is linked with its number of occurances in the list:\n",
        "\n",
        "todict([\"a\", \"b\", \"c\", \"b\", \"b\", \"c\"])\n",
        "\n",
        "returns\n",
        "\n",
        "{\n",
        "    \"a\": 1,\n",
        "    \"b\": 3,\n",
        "    \"c\": 2\n",
        "}\n"
      ]
    },
    {
      "cell_type": "code",
      "execution_count": 68,
      "id": "0fa31c3f",
      "metadata": {
        "id": "0fa31c3f"
      },
      "outputs": [],
      "source": [
        "# YOUR CODE HERE:\n",
        "def todict(lst:list)->dict:\n",
        "    count_stat = {}\n",
        "    for item in lst:\n",
        "        count_stat[item] = lst.count(item)\n",
        "    return count_stat\n"
      ]
    },
    {
      "cell_type": "code",
      "execution_count": 69,
      "id": "ea408399",
      "metadata": {},
      "outputs": [
        {
          "data": {
            "text/plain": [
              "{'a': 1, 'b': 3, 'c': 2}"
            ]
          },
          "execution_count": 69,
          "metadata": {},
          "output_type": "execute_result"
        }
      ],
      "source": [
        "todict([\"a\", \"b\", \"c\", \"b\", \"b\", \"c\"])\n"
      ]
    },
    {
      "cell_type": "markdown",
      "id": "043f69d6",
      "metadata": {
        "id": "043f69d6"
      },
      "source": [
        "### EXERCISE 8\n",
        "\n",
        "Using the _country_dict_ data structure, loaded from JSON in the presentation notebook, print all different offcial country languages in the world"
      ]
    },
    {
      "cell_type": "code",
      "execution_count": 90,
      "id": "a25fd762",
      "metadata": {
        "id": "a25fd762"
      },
      "outputs": [
        {
          "name": "stdout",
          "output_type": "stream",
          "text": [
            "Andorra has the following offical languages: ['ca']\n",
            "United Arab Emirates has the following offical languages: ['ar']\n",
            "Afghanistan has the following offical languages: ['ps', 'uz', 'tk']\n",
            "Antigua and Barbuda has the following offical languages: ['en']\n",
            "Anguilla has the following offical languages: ['en']\n",
            "Albania has the following offical languages: ['sq']\n",
            "Armenia has the following offical languages: ['hy', 'ru']\n",
            "Angola has the following offical languages: ['pt']\n",
            "Antarctica has the following offical languages: []\n",
            "Argentina has the following offical languages: ['es', 'gn']\n",
            "American Samoa has the following offical languages: ['en', 'sm']\n",
            "Austria has the following offical languages: ['de']\n",
            "Australia has the following offical languages: ['en']\n",
            "Aruba has the following offical languages: ['nl', 'pa']\n",
            "Åland has the following offical languages: ['sv']\n",
            "Azerbaijan has the following offical languages: ['az']\n",
            "Bosnia and Herzegovina has the following offical languages: ['bs', 'hr', 'sr']\n",
            "Barbados has the following offical languages: ['en']\n",
            "Bangladesh has the following offical languages: ['bn']\n",
            "Belgium has the following offical languages: ['nl', 'fr', 'de']\n",
            "Burkina Faso has the following offical languages: ['fr', 'ff']\n",
            "Bulgaria has the following offical languages: ['bg']\n",
            "Bahrain has the following offical languages: ['ar']\n",
            "Burundi has the following offical languages: ['fr', 'rn']\n",
            "Benin has the following offical languages: ['fr']\n",
            "Saint Barthélemy has the following offical languages: ['fr']\n",
            "Bermuda has the following offical languages: ['en']\n",
            "Brunei has the following offical languages: ['ms']\n",
            "Bolivia has the following offical languages: ['es', 'ay', 'qu']\n",
            "Bonaire has the following offical languages: ['nl']\n",
            "Brazil has the following offical languages: ['pt']\n",
            "Bahamas has the following offical languages: ['en']\n",
            "Bhutan has the following offical languages: ['dz']\n",
            "Bouvet Island has the following offical languages: ['no', 'nb', 'nn']\n",
            "Botswana has the following offical languages: ['en', 'tn']\n",
            "Belarus has the following offical languages: ['be', 'ru']\n",
            "Belize has the following offical languages: ['en', 'es']\n",
            "Canada has the following offical languages: ['en', 'fr']\n",
            "Cocos [Keeling] Islands has the following offical languages: ['en']\n",
            "Democratic Republic of the Congo has the following offical languages: ['fr', 'ln', 'kg', 'sw', 'lu']\n",
            "Central African Republic has the following offical languages: ['fr', 'sg']\n",
            "Republic of the Congo has the following offical languages: ['fr', 'ln']\n",
            "Switzerland has the following offical languages: ['de', 'fr', 'it']\n",
            "Ivory Coast has the following offical languages: ['fr']\n",
            "Cook Islands has the following offical languages: ['en']\n",
            "Chile has the following offical languages: ['es']\n",
            "Cameroon has the following offical languages: ['en', 'fr']\n",
            "China has the following offical languages: ['zh']\n",
            "Colombia has the following offical languages: ['es']\n",
            "Costa Rica has the following offical languages: ['es']\n",
            "Cuba has the following offical languages: ['es']\n",
            "Cape Verde has the following offical languages: ['pt']\n",
            "Curacao has the following offical languages: ['nl', 'pa', 'en']\n",
            "Christmas Island has the following offical languages: ['en']\n",
            "Cyprus has the following offical languages: ['el', 'tr', 'hy']\n",
            "Czech Republic has the following offical languages: ['cs', 'sk']\n",
            "Germany has the following offical languages: ['de']\n",
            "Djibouti has the following offical languages: ['fr', 'ar']\n",
            "Denmark has the following offical languages: ['da']\n",
            "Dominica has the following offical languages: ['en']\n",
            "Dominican Republic has the following offical languages: ['es']\n",
            "Algeria has the following offical languages: ['ar']\n",
            "Ecuador has the following offical languages: ['es']\n",
            "Estonia has the following offical languages: ['et']\n",
            "Egypt has the following offical languages: ['ar']\n",
            "Western Sahara has the following offical languages: ['es']\n",
            "Eritrea has the following offical languages: ['ti', 'ar', 'en']\n",
            "Spain has the following offical languages: ['es', 'eu', 'ca', 'gl', 'oc']\n",
            "Ethiopia has the following offical languages: ['am']\n",
            "Finland has the following offical languages: ['fi', 'sv']\n",
            "Fiji has the following offical languages: ['en', 'fj', 'hi', 'ur']\n",
            "Falkland Islands has the following offical languages: ['en']\n",
            "Micronesia has the following offical languages: ['en']\n",
            "Faroe Islands has the following offical languages: ['fo']\n",
            "France has the following offical languages: ['fr']\n",
            "Gabon has the following offical languages: ['fr']\n",
            "United Kingdom has the following offical languages: ['en']\n",
            "Grenada has the following offical languages: ['en']\n",
            "Georgia has the following offical languages: ['ka']\n",
            "French Guiana has the following offical languages: ['fr']\n",
            "Guernsey has the following offical languages: ['en', 'fr']\n",
            "Ghana has the following offical languages: ['en']\n",
            "Gibraltar has the following offical languages: ['en']\n",
            "Greenland has the following offical languages: ['kl']\n",
            "Gambia has the following offical languages: ['en']\n",
            "Guinea has the following offical languages: ['fr', 'ff']\n",
            "Guadeloupe has the following offical languages: ['fr']\n",
            "Equatorial Guinea has the following offical languages: ['es', 'fr']\n",
            "Greece has the following offical languages: ['el']\n",
            "South Georgia and the South Sandwich Islands has the following offical languages: ['en']\n",
            "Guatemala has the following offical languages: ['es']\n",
            "Guam has the following offical languages: ['en', 'ch', 'es']\n",
            "Guinea-Bissau has the following offical languages: ['pt']\n",
            "Guyana has the following offical languages: ['en']\n",
            "Hong Kong has the following offical languages: ['zh', 'en']\n",
            "Heard Island and McDonald Islands has the following offical languages: ['en']\n",
            "Honduras has the following offical languages: ['es']\n",
            "Croatia has the following offical languages: ['hr']\n",
            "Haiti has the following offical languages: ['fr', 'ht']\n",
            "Hungary has the following offical languages: ['hu']\n",
            "Indonesia has the following offical languages: ['id']\n",
            "Ireland has the following offical languages: ['ga', 'en']\n",
            "Israel has the following offical languages: ['he', 'ar']\n",
            "Isle of Man has the following offical languages: ['en', 'gv']\n",
            "India has the following offical languages: ['hi', 'en']\n",
            "British Indian Ocean Territory has the following offical languages: ['en']\n",
            "Iraq has the following offical languages: ['ar', 'ku']\n",
            "Iran has the following offical languages: ['fa']\n",
            "Iceland has the following offical languages: ['is']\n",
            "Italy has the following offical languages: ['it']\n",
            "Jersey has the following offical languages: ['en', 'fr']\n",
            "Jamaica has the following offical languages: ['en']\n",
            "Jordan has the following offical languages: ['ar']\n",
            "Japan has the following offical languages: ['ja']\n",
            "Kenya has the following offical languages: ['en', 'sw']\n",
            "Kyrgyzstan has the following offical languages: ['ky', 'ru']\n",
            "Cambodia has the following offical languages: ['km']\n",
            "Kiribati has the following offical languages: ['en']\n",
            "Comoros has the following offical languages: ['ar', 'fr']\n",
            "Saint Kitts and Nevis has the following offical languages: ['en']\n",
            "North Korea has the following offical languages: ['ko']\n",
            "South Korea has the following offical languages: ['ko']\n",
            "Kuwait has the following offical languages: ['ar']\n",
            "Cayman Islands has the following offical languages: ['en']\n",
            "Kazakhstan has the following offical languages: ['kk', 'ru']\n",
            "Laos has the following offical languages: ['lo']\n",
            "Lebanon has the following offical languages: ['ar', 'fr']\n",
            "Saint Lucia has the following offical languages: ['en']\n",
            "Liechtenstein has the following offical languages: ['de']\n",
            "Sri Lanka has the following offical languages: ['si', 'ta']\n",
            "Liberia has the following offical languages: ['en']\n",
            "Lesotho has the following offical languages: ['en', 'st']\n",
            "Lithuania has the following offical languages: ['lt']\n",
            "Luxembourg has the following offical languages: ['fr', 'de', 'lb']\n",
            "Latvia has the following offical languages: ['lv']\n",
            "Libya has the following offical languages: ['ar']\n",
            "Morocco has the following offical languages: ['ar']\n",
            "Monaco has the following offical languages: ['fr']\n",
            "Moldova has the following offical languages: ['ro']\n",
            "Montenegro has the following offical languages: ['sr', 'bs', 'sq', 'hr']\n",
            "Saint Martin has the following offical languages: ['en', 'fr', 'nl']\n",
            "Madagascar has the following offical languages: ['fr', 'mg']\n",
            "Marshall Islands has the following offical languages: ['en', 'mh']\n",
            "North Macedonia has the following offical languages: ['mk']\n",
            "Mali has the following offical languages: ['fr']\n",
            "Myanmar [Burma] has the following offical languages: ['my']\n",
            "Mongolia has the following offical languages: ['mn']\n",
            "Macao has the following offical languages: ['zh', 'pt']\n",
            "Northern Mariana Islands has the following offical languages: ['en', 'ch']\n",
            "Martinique has the following offical languages: ['fr']\n",
            "Mauritania has the following offical languages: ['ar']\n",
            "Montserrat has the following offical languages: ['en']\n",
            "Malta has the following offical languages: ['mt', 'en']\n",
            "Mauritius has the following offical languages: ['en']\n",
            "Maldives has the following offical languages: ['dv']\n",
            "Malawi has the following offical languages: ['en', 'ny']\n",
            "Mexico has the following offical languages: ['es']\n",
            "Malaysia has the following offical languages: ['ms']\n",
            "Mozambique has the following offical languages: ['pt']\n",
            "Namibia has the following offical languages: ['en', 'af']\n",
            "New Caledonia has the following offical languages: ['fr']\n",
            "Niger has the following offical languages: ['fr']\n",
            "Norfolk Island has the following offical languages: ['en']\n",
            "Nigeria has the following offical languages: ['en']\n",
            "Nicaragua has the following offical languages: ['es']\n",
            "Netherlands has the following offical languages: ['nl']\n",
            "Norway has the following offical languages: ['no', 'nb', 'nn']\n",
            "Nepal has the following offical languages: ['ne']\n",
            "Nauru has the following offical languages: ['en', 'na']\n",
            "Niue has the following offical languages: ['en']\n",
            "New Zealand has the following offical languages: ['en', 'mi']\n",
            "Oman has the following offical languages: ['ar']\n",
            "Panama has the following offical languages: ['es']\n",
            "Peru has the following offical languages: ['es']\n",
            "French Polynesia has the following offical languages: ['fr']\n",
            "Papua New Guinea has the following offical languages: ['en']\n",
            "Philippines has the following offical languages: ['en']\n",
            "Pakistan has the following offical languages: ['en', 'ur']\n",
            "Poland has the following offical languages: ['pl']\n",
            "Saint Pierre and Miquelon has the following offical languages: ['fr']\n",
            "Pitcairn Islands has the following offical languages: ['en']\n",
            "Puerto Rico has the following offical languages: ['es', 'en']\n",
            "Palestine has the following offical languages: ['ar']\n",
            "Portugal has the following offical languages: ['pt']\n",
            "Palau has the following offical languages: ['en']\n",
            "Paraguay has the following offical languages: ['es', 'gn']\n",
            "Qatar has the following offical languages: ['ar']\n",
            "Réunion has the following offical languages: ['fr']\n",
            "Romania has the following offical languages: ['ro']\n",
            "Serbia has the following offical languages: ['sr']\n",
            "Russia has the following offical languages: ['ru']\n",
            "Rwanda has the following offical languages: ['rw', 'en', 'fr']\n",
            "Saudi Arabia has the following offical languages: ['ar']\n",
            "Solomon Islands has the following offical languages: ['en']\n",
            "Seychelles has the following offical languages: ['fr', 'en']\n",
            "Sudan has the following offical languages: ['ar', 'en']\n",
            "Sweden has the following offical languages: ['sv']\n",
            "Singapore has the following offical languages: ['en', 'ms', 'ta', 'zh']\n",
            "Saint Helena has the following offical languages: ['en']\n",
            "Slovenia has the following offical languages: ['sl']\n",
            "Svalbard and Jan Mayen has the following offical languages: ['no']\n",
            "Slovakia has the following offical languages: ['sk']\n",
            "Sierra Leone has the following offical languages: ['en']\n",
            "San Marino has the following offical languages: ['it']\n",
            "Senegal has the following offical languages: ['fr']\n",
            "Somalia has the following offical languages: ['so', 'ar']\n",
            "Suriname has the following offical languages: ['nl']\n",
            "South Sudan has the following offical languages: ['en']\n",
            "São Tomé and Príncipe has the following offical languages: ['pt']\n",
            "El Salvador has the following offical languages: ['es']\n",
            "Sint Maarten has the following offical languages: ['nl', 'en']\n",
            "Syria has the following offical languages: ['ar']\n",
            "Swaziland has the following offical languages: ['en', 'ss']\n",
            "Turks and Caicos Islands has the following offical languages: ['en']\n",
            "Chad has the following offical languages: ['fr', 'ar']\n",
            "French Southern Territories has the following offical languages: ['fr']\n",
            "Togo has the following offical languages: ['fr']\n",
            "Thailand has the following offical languages: ['th']\n",
            "Tajikistan has the following offical languages: ['tg', 'ru']\n",
            "Tokelau has the following offical languages: ['en']\n",
            "East Timor has the following offical languages: ['pt']\n",
            "Turkmenistan has the following offical languages: ['tk', 'ru']\n",
            "Tunisia has the following offical languages: ['ar']\n",
            "Tonga has the following offical languages: ['en', 'to']\n",
            "Turkey has the following offical languages: ['tr']\n",
            "Trinidad and Tobago has the following offical languages: ['en']\n",
            "Tuvalu has the following offical languages: ['en']\n",
            "Taiwan has the following offical languages: ['zh']\n",
            "Tanzania has the following offical languages: ['sw', 'en']\n",
            "Ukraine has the following offical languages: ['uk']\n",
            "Uganda has the following offical languages: ['en', 'sw']\n",
            "U.S. Minor Outlying Islands has the following offical languages: ['en']\n",
            "United States has the following offical languages: ['en']\n",
            "Uruguay has the following offical languages: ['es']\n",
            "Uzbekistan has the following offical languages: ['uz', 'ru']\n",
            "Vatican City has the following offical languages: ['it', 'la']\n",
            "Saint Vincent and the Grenadines has the following offical languages: ['en']\n",
            "Venezuela has the following offical languages: ['es']\n",
            "British Virgin Islands has the following offical languages: ['en']\n",
            "U.S. Virgin Islands has the following offical languages: ['en']\n",
            "Vietnam has the following offical languages: ['vi']\n",
            "Vanuatu has the following offical languages: ['bi', 'en', 'fr']\n",
            "Wallis and Futuna has the following offical languages: ['fr']\n",
            "Samoa has the following offical languages: ['sm', 'en']\n",
            "Kosovo has the following offical languages: ['sq', 'sr']\n",
            "Yemen has the following offical languages: ['ar']\n",
            "Mayotte has the following offical languages: ['fr']\n",
            "South Africa has the following offical languages: ['af', 'en', 'nr', 'st', 'ss', 'tn', 'ts', 've', 'xh', 'zu']\n",
            "Zambia has the following offical languages: ['en']\n",
            "Zimbabwe has the following offical languages: ['en', 'sn', 'nd']\n"
          ]
        }
      ],
      "source": [
        "# YOUR CODE HERE:\n",
        "import json\n",
        "\n",
        "f = open('week3_files/countries.json', encoding= 'utf-8')\n",
        "country_dict = json.load(f)\n",
        "f.close()\n",
        "for key in country_dict.keys():\n",
        "    print(country_dict[key][\"name\"],\"has the following offical languages:\", country_dict[key][\"languages\"] )"
      ]
    },
    {
      "cell_type": "markdown",
      "id": "138eb3a2",
      "metadata": {
        "id": "138eb3a2"
      },
      "source": [
        "### EXERCISE 9\n",
        "\n",
        "Download any CSV data set from https://data.gov.lv/dati/lv/dataset and load it to Python programme. Print number of observations (lines) and a randomly selected observation."
      ]
    },
    {
      "cell_type": "code",
      "execution_count": 18,
      "id": "87fb1f66",
      "metadata": {
        "id": "87fb1f66"
      },
      "outputs": [
        {
          "name": "stdout",
          "output_type": "stream",
          "text": [
            "530 lines in the file\n",
            "['\\ufeffEksāmens;Novads;Iestāde; Iestādes vidējais ;Kārtotāju skaits;0-9%;10-19%;20-29%;30-39%;40-49%;50-59%;60-69%;70-79%;80-89%;90-100%']\n",
            "['Eksāmens matemātikā 9.klasei;Aizkraukles novads;Ilmāra Gaiša Kokneses vidusskola; 56', '0   ;28;;1;4;4;3;3;3;4;1;5']\n"
          ]
        }
      ],
      "source": [
        "# YOUR CODE HERE:\n",
        "import csv\n",
        "rows = []\n",
        "with open(\"week3_files/vps_ce_mat_kopv_limeni_pmsk_2022_2023.csv\", 'r') as file:\n",
        "    csvreader = csv.reader(file)\n",
        "    header = next(csvreader)\n",
        "    for row in csvreader:\n",
        "        rows.append(row)\n",
        "\n",
        "print(len(rows), \"lines in the file\")\n",
        "print(header)\n",
        "print(rows[4])"
      ]
    },
    {
      "cell_type": "markdown",
      "id": "a498b125",
      "metadata": {
        "id": "a498b125"
      },
      "source": [
        "### EXERCISE 10\n",
        "\n",
        "Download any JSON data set from https://data.gov.lv/dati/lv/dataset and load it to Python programme. Print number of observations (high-level objects) and a randomly selected observation."
      ]
    },
    {
      "cell_type": "code",
      "execution_count": 46,
      "id": "0edd108c",
      "metadata": {
        "id": "0edd108c"
      },
      "outputs": [
        {
          "name": "stdout",
          "output_type": "stream",
          "text": [
            "10 observations in my downloaded json file\n",
            "Random observation: dc:issued and details: {'@value': '2022-10-25', '@type': 'xsd:date'}\n"
          ]
        }
      ],
      "source": [
        "# YOUR CODE HERE:\n",
        "import json\n",
        "import random\n",
        "f = open(\"week3_files/meteorologiskie_operativie_dati_metadata.json\", encoding= 'utf-8')\n",
        "country_dict = json.load(f)\n",
        "f.close()\n",
        "print(len(country_dict), \"observations in my downloaded json file\")\n",
        "rand_obs =  random.choice(list(country_dict.keys()))\n",
        "print(f\"Random observation: {rand_obs} and details: {country_dict[rand_obs]}\")"
      ]
    },
    {
      "cell_type": "markdown",
      "id": "3f5adee8",
      "metadata": {
        "id": "3f5adee8"
      },
      "source": [
        "### EXERCISE 11\n",
        "\n",
        "Develop a function that saves Python objects into JSON file of the given name and another function to restore them.\n",
        "\n",
        "Illustrate usage of these functions for saving/restoring data structures from Lab 2 Exercise 10, Exercise 11, and Exercise 12."
      ]
    },
    {
      "cell_type": "code",
      "execution_count": 21,
      "id": "e5501a4a",
      "metadata": {
        "id": "e5501a4a"
      },
      "outputs": [],
      "source": [
        "# YOUR CODE HERE:\n",
        "import json\n",
        "def encoding_json(json_data:dict):\n",
        "    with open(\"week3_files/example.json\", \"w\") as outfile:\n",
        "        outfile.write(json.dumps(json_data, indent=2))\n",
        "\n",
        "def decoding_json(json_file) -> dict:\n",
        "    with open(json_file, encoding = 'utf-8') as f:\n",
        "        file_dict = json.load(f)\n",
        "    return (json.dumps(file_dict, indent=2))"
      ]
    },
    {
      "cell_type": "markdown",
      "id": "a7e4f92d",
      "metadata": {
        "id": "a7e4f92d"
      },
      "source": [
        "### EXERCISE 12\n",
        "\n",
        "Organise all functions in a module (.py) and illustrate its import and usage."
      ]
    },
    {
      "cell_type": "code",
      "execution_count": 23,
      "id": "0ae4a1ad",
      "metadata": {
        "id": "0ae4a1ad"
      },
      "outputs": [
        {
          "name": "stdout",
          "output_type": "stream",
          "text": [
            "[2, 4, 8, 16, 32, 64, 128, 256, 512, 1024]\n",
            "[4, 8, 16, 32, 64]\n"
          ]
        }
      ],
      "source": [
        "# YOUR CODE HERE:\n",
        "import Gamez_lab3 as g\n",
        "\n",
        "print(g.get_list_2(10))\n",
        "print(g.get_list_b(2,100))"
      ]
    },
    {
      "cell_type": "code",
      "execution_count": 26,
      "metadata": {},
      "outputs": [],
      "source": [
        "cities_info = {\n",
        "    \"Ventspils\" : {\n",
        "        \"population\": 33_053,\n",
        "        \"connected_cities\" : {\"Liepaja\": 188, \"Jelgave\": 176, \"Jurmala\": 154},\n",
        "        \"distance_to_Daugavpils\" : 176 + 230\n",
        "    },\n",
        "    \"Liepaja\" : {\n",
        "        \"population\": 67_335,\n",
        "        \"connected_cities\" : {\"Ventspils\": 118, \"Jelgave\": 182, \"Jurmala\": 192},\n",
        "        \"distance_to_Daugavpils\" : 182 + 230\n",
        "    },\n",
        "    \"Jurmala\" : {\n",
        "        \"population\": 50_842,\n",
        "        \"connected_cities\" : {\"Ventspils\": 154, \"Liepaja\": 192, \"Jelgava\": 45, \"Riga\": 38},\n",
        "        \"distance_to_Daugavpils\" : 45 + 230\n",
        "    },\n",
        "    \"Jelgava\" : {\n",
        "        \"population\": 55_384,\n",
        "        \"connected_cities\" : {\"Ventspils\": 174, \"Liepaja\": 182, \"Jurmala\": 45, \"Riga\": 45, \"Daugavapils\": 230},\n",
        "        \"distance_to_Daugavpils\" : 230\n",
        "    },\n",
        "    \"Riga\" : {\n",
        "        \"population\": 614_987,\n",
        "        \"connected_cities\" : {\"Valmiera\": 107, \"Jelgave\": 45, \"Jurmala\": 38, \"Jekabpils\": 140},\n",
        "        \"distance_to_Daugavpils\" : 140 + 89\n",
        "    },\n",
        "    \"Jekabpils\" : {\n",
        "        \"population\": 21_179,\n",
        "        \"connected_cities\" : {\"Riga\" : 140, \"Valmiera\" : 162, \"Rezekne\": 101, \"Daugavpils\": 89},\n",
        "        \"distance_to_Daugavpils\" : 89\n",
        "    },\n",
        "    \"Valmiera\" : {\n",
        "        \"population\": 22_408,\n",
        "        \"connected_cities\" : {\"Riga\": 107, \"Jekabpils\": 162, \"Rezekne\": 1185},\n",
        "        \"distance_to_Daugavpils\" : 185 + 89\n",
        "    },\n",
        "    \"Rezekne\" : {\n",
        "        \"population\": 26_805,\n",
        "        \"connected_cities\" : {\"Valmiera\": 185, \"Jekabpils\": 101, \"Daugavpils\": 89},\n",
        "        \"distance_to_Daugavpils\" : 89\n",
        "    },\n",
        "    \"Daugavpils\" : {\n",
        "        \"population\": 79_299,\n",
        "        \"connected_cities\" : {\"Rezekne\": 89, \"Jekabpils\": 89, \"Jelgava\": 230},\n",
        "        \"distance_to_Daugavpils\" : 0\n",
        "    }\n",
        "\n",
        "}\n"
      ]
    },
    {
      "cell_type": "code",
      "execution_count": 25,
      "metadata": {},
      "outputs": [
        {
          "ename": "UnsupportedOperation",
          "evalue": "not writable",
          "output_type": "error",
          "traceback": [
            "\u001b[1;31m---------------------------------------------------------------------------\u001b[0m",
            "\u001b[1;31mUnsupportedOperation\u001b[0m                      Traceback (most recent call last)",
            "\u001b[1;32mc:\\Users\\Tako\\Documents\\GitHub\\fall_23\\programming_for_data_analytics\\Gamez_lab3.ipynb Cell 34\u001b[0m in \u001b[0;36m<cell line: 1>\u001b[1;34m()\u001b[0m\n\u001b[1;32m----> <a href='vscode-notebook-cell:/c%3A/Users/Tako/Documents/GitHub/fall_23/programming_for_data_analytics/Gamez_lab3.ipynb#X45sZmlsZQ%3D%3D?line=0'>1</a>\u001b[0m g\u001b[39m.\u001b[39;49mencoding_json(cities_info)\n",
            "File \u001b[1;32mc:\\Users\\Tako\\Documents\\GitHub\\fall_23\\programming_for_data_analytics\\Gamez_lab3.py:79\u001b[0m, in \u001b[0;36mencoding_json\u001b[1;34m(json_data)\u001b[0m\n\u001b[0;32m     77\u001b[0m \u001b[39mdef\u001b[39;00m \u001b[39mencoding_json\u001b[39m(json_data:\u001b[39mdict\u001b[39m):\n\u001b[0;32m     78\u001b[0m     \u001b[39mwith\u001b[39;00m \u001b[39mopen\u001b[39m(\u001b[39m\"\u001b[39m\u001b[39mweek3_files/example.json\u001b[39m\u001b[39m\"\u001b[39m) \u001b[39mas\u001b[39;00m outfile:\n\u001b[1;32m---> 79\u001b[0m         outfile\u001b[39m.\u001b[39;49mwrite(json\u001b[39m.\u001b[39;49mdumps(json_data, indent\u001b[39m=\u001b[39;49m\u001b[39m2\u001b[39;49m))\n",
            "\u001b[1;31mUnsupportedOperation\u001b[0m: not writable"
          ]
        }
      ],
      "source": [
        "g.encoding_json(cities_info)"
      ]
    }
  ],
  "metadata": {
    "colab": {
      "provenance": []
    },
    "kernelspec": {
      "display_name": "Python 3 (ipykernel)",
      "language": "python",
      "name": "python3"
    },
    "language_info": {
      "codemirror_mode": {
        "name": "ipython",
        "version": 3
      },
      "file_extension": ".py",
      "mimetype": "text/x-python",
      "name": "python",
      "nbconvert_exporter": "python",
      "pygments_lexer": "ipython3",
      "version": "3.10.4"
    }
  },
  "nbformat": 4,
  "nbformat_minor": 5
}
