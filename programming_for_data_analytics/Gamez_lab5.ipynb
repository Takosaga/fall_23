{
 "cells": [
  {
   "cell_type": "markdown",
   "metadata": {},
   "source": [
    "### EXERCISE 1\n",
    "\n",
    "Create a small pandas dataframe from a dictionary of country names, their capital cities and populations of 5-6 countries\n",
    "1. Extend the database with a couple of countries and one column with the latest GDP values\n",
    "2. Calculate a new column with GDP per capita values\n",
    "3. Filter top 2 countries with highest GDP per capita\n",
    "4. Visualise GDP per capita in countries using an appropriate plot (from pandas library)\n",
    "5. Add a new column with Independance dates (or other national holiday) of countries in 2022 and ensure that it has an appropriate data type\n",
    "6. Set the row index to country names\n",
    "7. Using the resulting data frame, illustrate the difference between _.loc_ and _.iloc_ selectors"
   ]
  },
  {
   "cell_type": "code",
   "execution_count": null,
   "metadata": {},
   "outputs": [],
   "source": []
  },
  {
   "cell_type": "markdown",
   "metadata": {},
   "source": [
    "### EXERCISE 2\n",
    "\n",
    "Using the the Bike Sharing Demand data set from the presentation\n",
    "1. Select summer season's rentals using row index and loc\n",
    "\n",
    "2. Create two new columns with temperature and humidity values, rounded to tens (10,20,30,40, etc.). Sort the data set by these two columns: rounded temperature first, rounded humidity second\n",
    "\n",
    "3. Transform the _datetime_ into datetime data type, set it as index and sort the data frame\n",
    "\n",
    "4. Using groupby functions, calculate: \n",
    "\n",
    "    a) average number of bike rentals by rounded temperature and humidity values \n",
    "    \n",
    "    b) average number of bike rentals by hours of a day \n",
    "    \n",
    "    c) min, max and standard deviation of temperatures by seasons\n",
    "    \n",
    "5. Transform the given data frame into the _long_ (longest) data format, where every row contains exactly one value"
   ]
  },
  {
   "cell_type": "code",
   "execution_count": null,
   "metadata": {},
   "outputs": [],
   "source": []
  },
  {
   "cell_type": "markdown",
   "metadata": {},
   "source": [
    "### EXERCISE 3\n",
    "\n",
    "Develop  a function that split rows of the given data frame into two sub frames in a given proportion. E.g., _df_split(df, propostion=0.8)_ returns a tuple of two data frames, where the first contains about 80% of df rows, and the seconds - other rows.\n",
    "\n",
    "Use the developed function to split a data frame from any other exercise and concatenate them back using \"_train_\" as an index of the first one and \"_test_\" as an index for the second one."
   ]
  },
  {
   "cell_type": "code",
   "execution_count": null,
   "metadata": {},
   "outputs": [],
   "source": []
  },
  {
   "cell_type": "markdown",
   "metadata": {},
   "source": [
    "### EXERCISE 4\n",
    "\n",
    "Using the _.read_html_ function, collect infomation from any category of a public advertisement website (e.g., ss.lv):\n",
    "1. Collect advertisements from 2-3 pages into data frames and concatenate them into one data frame\n",
    "2. Develop a function for cleaning up the collected price - extracting numeric values. Apply the function for transforming the column _price_ of the data frame into numeric.\n",
    "3. Calculate descriptive statistics of the prices - mean, median, standard deviation, min, max, etc.\n",
    "4. Plot the box plot of prices"
   ]
  },
  {
   "cell_type": "code",
   "execution_count": null,
   "metadata": {},
   "outputs": [],
   "source": []
  },
  {
   "cell_type": "markdown",
   "metadata": {},
   "source": [
    "### EXERCISE 5\n",
    "\n",
    "Using the _students_df_, _groups_df_, _courses_df_, and _results_df_ data frames from the presentations, construct the following data frames:\n",
    "1. Course names with number of students, attended the course (0 if no students)\n",
    "2. Group names with total number of students and average attendance values\n",
    "3. Student names with average attendance and grades\n",
    "4. Course names with number of students who attended (attendance>0), but don't have the final grade (NaN)\n",
    "5. A main data frame that includes all information from the original data frames and illustrate extraction of the original data frames from the main one"
   ]
  },
  {
   "cell_type": "code",
   "execution_count": null,
   "metadata": {},
   "outputs": [],
   "source": []
  }
 ],
 "metadata": {
  "kernelspec": {
   "display_name": "learning",
   "language": "python",
   "name": "python3"
  },
  "language_info": {
   "codemirror_mode": {
    "name": "ipython",
    "version": 3
   },
   "file_extension": ".py",
   "mimetype": "text/x-python",
   "name": "python",
   "nbconvert_exporter": "python",
   "pygments_lexer": "ipython3",
   "version": "3.10.4"
  }
 },
 "nbformat": 4,
 "nbformat_minor": 2
}
