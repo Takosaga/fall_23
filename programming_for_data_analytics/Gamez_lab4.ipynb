{
 "cells": [
  {
   "cell_type": "markdown",
   "metadata": {},
   "source": [
    "### EXERCISE 1\n",
    "\n",
    "Create:\n",
    "1. A three-dimensional NumPy array of zeros\n",
    "2. A two-dimensional NumPy array of random integer numbers (from a given range)\n",
    "3. A three-dimensional NumPy array with first 27 prime numbers (you can use a primePy package or just enter them manually)\n",
    "\n"
   ]
  },
  {
   "cell_type": "code",
   "execution_count": null,
   "metadata": {},
   "outputs": [],
   "source": []
  },
  {
   "cell_type": "markdown",
   "metadata": {},
   "source": [
    "### EXERCISE 2\n",
    "\n",
    "Write a programme to replace zeros with np.nan values in a given NumPy array\n"
   ]
  },
  {
   "cell_type": "code",
   "execution_count": null,
   "metadata": {},
   "outputs": [],
   "source": []
  },
  {
   "cell_type": "markdown",
   "metadata": {},
   "source": [
    "### EXERCISE 3\n",
    "\n",
    "Create a NumPy array of booleans and illustrate the following methods\n",
    "1. .any()\n",
    "2. .all()\n",
    "\n",
    "Apply these methods for the complete array and by every dimension (e.g., by rows)\n"
   ]
  },
  {
   "cell_type": "code",
   "execution_count": null,
   "metadata": {},
   "outputs": [],
   "source": []
  },
  {
   "cell_type": "markdown",
   "metadata": {},
   "source": [
    "### EXERCISE 4\n",
    "\n",
    "Create two 4x4 NumPy arrays of random numbers from the range [0,100].\n",
    "Create a boolean mask from the second array, which is 1 for all value more than 50 and 0 otherwise and use it to filtering the first array (replace elements, where mask is 0, with zetos)."
   ]
  },
  {
   "cell_type": "code",
   "execution_count": null,
   "metadata": {},
   "outputs": [],
   "source": []
  },
  {
   "cell_type": "markdown",
   "metadata": {},
   "source": [
    "### EXERCISE 5\n",
    "\n",
    "Write a  program to compute the mean, median, standard deviation, and variance of a given NumPy array along the second axis and provide several test cases for the programme. Recall the meaning of mentioned statistical characteristics.\n",
    "\n"
   ]
  },
  {
   "cell_type": "code",
   "execution_count": null,
   "metadata": {},
   "outputs": [],
   "source": []
  },
  {
   "cell_type": "markdown",
   "metadata": {},
   "source": [
    "### EXERCISE 6\n",
    "\n",
    "Write a  program to calculate the difference between the maximum and the minimum values of a given NumPy array along the all available dimensions.\n",
    "\n",
    "E.g., for a matrix:\n",
    "\n",
    "[[1, 2, 3]\n",
    "\n",
    " [10, 2, 30]\n",
    " \n",
    " [5, 20, 10]]\n",
    " \n",
    " \n",
    "the programme should return:\n",
    "\n",
    "Axis 0: [2, 28, 15]\n",
    "\n",
    "Axis 1: [9, 18, 27]\n"
   ]
  },
  {
   "cell_type": "code",
   "execution_count": null,
   "metadata": {},
   "outputs": [],
   "source": []
  },
  {
   "cell_type": "markdown",
   "metadata": {},
   "source": [
    "### EXERCISE 7\n",
    "\n",
    "Create a 7x7 NumPy array of random integers and subset all possible 5x5 sub-arrays (including overlapping ones)."
   ]
  },
  {
   "cell_type": "code",
   "execution_count": null,
   "metadata": {},
   "outputs": [],
   "source": []
  },
  {
   "cell_type": "markdown",
   "metadata": {},
   "source": [
    "### EXERCISE 8\n",
    "\n",
    "Write a program that delete duplicates from a NumPy array and a provided dimension (e.g., duplicate rows). Records are duplicates if all value for all other dimensions are the same. Test the programme for 2D and 3D arrays."
   ]
  },
  {
   "cell_type": "code",
   "execution_count": null,
   "metadata": {},
   "outputs": [],
   "source": []
  },
  {
   "cell_type": "markdown",
   "metadata": {},
   "source": [
    "### EXERCISE 9\n",
    "\n",
    "Illustarate solution of 2-3 systems of linear equations from the \"Mathematics for Data Analytics\" course using np.linalg"
   ]
  },
  {
   "cell_type": "code",
   "execution_count": null,
   "metadata": {},
   "outputs": [],
   "source": []
  },
  {
   "cell_type": "markdown",
   "metadata": {},
   "source": [
    "### EXERCISE 10\n",
    "\n",
    "Load numeric data from the CSV file, utilised in Lab 3 Exercise 9 into a NumPy array and calculate its statistics (by columns)"
   ]
  },
  {
   "cell_type": "code",
   "execution_count": null,
   "metadata": {},
   "outputs": [],
   "source": []
  },
  {
   "cell_type": "markdown",
   "metadata": {},
   "source": [
    "### EXERCISE 11\n",
    "\n",
    "Using the presentations for this week and any image of your choice, illustrate\n",
    "1. Loading of an image into a Numpy array\n",
    "2. Flipping the image (by sorting the array)\n",
    "3. Rotating the image (by transposing)\n",
    "4. Filtering R,G,and B colors\n",
    "5. Clipping a reactangular area the image by slicing\n",
    "6. Grayscaling of the image by different colour weighting schemes - https://www.johndcook.com/blog/2009/08/24/algorithms-convert-color-grayscale/\n",
    "\n"
   ]
  },
  {
   "cell_type": "code",
   "execution_count": null,
   "metadata": {},
   "outputs": [],
   "source": []
  },
  {
   "cell_type": "markdown",
   "metadata": {},
   "source": [
    "### EXERCISE 12\n",
    "\n",
    "Implement the following procedure for the text of \"Alice in Wonderland\" (see the Week 3 presentations):\n",
    "1. Split the text into three pieces with similar number of words: Part1, Part2, Part3\n",
    "2. For every part calculate the relative frequency of each word (number of word occurances divided by number of words in a Part)\n",
    "3. Combine frequencies for all parts into NumPy array (the first dimension should correspond to the number of parts, 3)\n",
    "4. Compare frequencies of word \"alice\" between the parts\n",
    "5. Print 10 words with most significant (maximum) change of frequencies between parts\n",
    "6. Print 10 words with most stable frequency (minimum) between parts\n",
    "\n",
    "If you are interested in text analysis, read about TF-IDF - e.g., https://towardsdatascience.com/tf-idf-for-document-ranking-from-scratch-in-python-on-real-world-dataset-796d339a4089\n"
   ]
  },
  {
   "cell_type": "code",
   "execution_count": null,
   "metadata": {},
   "outputs": [],
   "source": []
  }
 ],
 "metadata": {
  "kernelspec": {
   "display_name": "learning",
   "language": "python",
   "name": "python3"
  },
  "language_info": {
   "codemirror_mode": {
    "name": "ipython",
    "version": 3
   },
   "file_extension": ".py",
   "mimetype": "text/x-python",
   "name": "python",
   "nbconvert_exporter": "python",
   "pygments_lexer": "ipython3",
   "version": "3.10.4"
  }
 },
 "nbformat": 4,
 "nbformat_minor": 2
}
