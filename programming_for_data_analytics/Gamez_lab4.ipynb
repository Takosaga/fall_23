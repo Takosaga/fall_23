{
 "cells": [
  {
   "cell_type": "markdown",
   "metadata": {},
   "source": [
    "### EXERCISE 1\n",
    "\n",
    "Create:\n",
    "1. A three-dimensional NumPy array of zeros\n",
    "2. A two-dimensional NumPy array of random integer numbers (from a given range)\n",
    "3. A three-dimensional NumPy array with first 27 prime numbers (you can use a primePy package or just enter them manually)\n",
    "\n"
   ]
  },
  {
   "cell_type": "code",
   "execution_count": 2,
   "metadata": {},
   "outputs": [
    {
     "data": {
      "text/plain": [
       "array([[[0., 0., 0.],\n",
       "        [0., 0., 0.],\n",
       "        [0., 0., 0.]],\n",
       "\n",
       "       [[0., 0., 0.],\n",
       "        [0., 0., 0.],\n",
       "        [0., 0., 0.]],\n",
       "\n",
       "       [[0., 0., 0.],\n",
       "        [0., 0., 0.],\n",
       "        [0., 0., 0.]]])"
      ]
     },
     "execution_count": 2,
     "metadata": {},
     "output_type": "execute_result"
    }
   ],
   "source": [
    "import numpy as np\n",
    "# 3d numpy array of zeros\n",
    "np.zeros((3,3,3))\n"
   ]
  },
  {
   "cell_type": "code",
   "execution_count": 27,
   "metadata": {},
   "outputs": [
    {
     "name": "stdout",
     "output_type": "stream",
     "text": [
      "[[ 0.  1.  2.]\n",
      " [ 3.  4.  5.]\n",
      " [ 6.  7.  8.]\n",
      " [ 9. 10. 11.]]\n"
     ]
    }
   ],
   "source": [
    "two_d_array = np.array(np.arange(12.0))\n",
    "two_d_array = two_d_array.reshape((4,3))\n",
    "print(two_d_array)"
   ]
  },
  {
   "cell_type": "code",
   "execution_count": 18,
   "metadata": {},
   "outputs": [
    {
     "data": {
      "text/plain": [
       "array([[[  2,   3,   5],\n",
       "        [  7,  11,  13],\n",
       "        [ 17,  19,  23]],\n",
       "\n",
       "       [[ 29,  31,  37],\n",
       "        [ 41,  43,  47],\n",
       "        [ 53,  59,  61]],\n",
       "\n",
       "       [[ 67,  71,  73],\n",
       "        [ 79,  83,  89],\n",
       "        [ 97, 101, 103]]])"
      ]
     },
     "execution_count": 18,
     "metadata": {},
     "output_type": "execute_result"
    }
   ],
   "source": [
    "from primePy import primes\n",
    "prime = np.array(primes.first(27))\n",
    "prime.reshape((3,3,3))"
   ]
  },
  {
   "cell_type": "markdown",
   "metadata": {},
   "source": [
    "### EXERCISE 2\n",
    "\n",
    "Write a programme to replace zeros with np.nan values in a given NumPy array\n"
   ]
  },
  {
   "cell_type": "code",
   "execution_count": 31,
   "metadata": {},
   "outputs": [
    {
     "name": "stdout",
     "output_type": "stream",
     "text": [
      "---original--- \n",
      " [[ 0.  1.  2.]\n",
      " [ 3.  4.  5.]\n",
      " [ 6.  7.  8.]\n",
      " [ 9. 10. 11.]]\n",
      "---replaced--- \n",
      " [[nan  1.  2.]\n",
      " [ 3.  4.  5.]\n",
      " [ 6.  7.  8.]\n",
      " [ 9. 10. 11.]]\n"
     ]
    }
   ],
   "source": [
    "print(\"---original--- \\n\",two_d_array)\n",
    "\n",
    "def replace_zeros(array:np.array):\n",
    "    replaced = np.copy(array)\n",
    "    replaced[replaced == 0] = np.nan\n",
    "    return replaced\n",
    "print(\"---replaced--- \\n\", replace_zeros(two_d_array))"
   ]
  },
  {
   "cell_type": "markdown",
   "metadata": {},
   "source": [
    "### EXERCISE 3\n",
    "\n",
    "Create a NumPy array of booleans and illustrate the following methods\n",
    "1. .any()\n",
    "2. .all()\n",
    "\n",
    "Apply these methods for the complete array and by every dimension (e.g., by rows)\n"
   ]
  },
  {
   "cell_type": "code",
   "execution_count": 58,
   "metadata": {},
   "outputs": [
    {
     "name": "stdout",
     "output_type": "stream",
     "text": [
      "[[[False  True]\n",
      "  [ True  True]]\n",
      "\n",
      " [[False False]\n",
      "  [False False]]]\n"
     ]
    }
   ],
   "source": [
    "booleans = np.array([False,True,True,True,False,False,False,False])\n",
    "booleans = booleans.reshape((2,2,2))\n",
    "print(booleans)"
   ]
  },
  {
   "cell_type": "code",
   "execution_count": 66,
   "metadata": {},
   "outputs": [
    {
     "name": "stdout",
     "output_type": "stream",
     "text": [
      "-----any()-----\n",
      " [[ True  True]\n",
      " [False False]]\n",
      "-----all()-----\n",
      " [[False  True]\n",
      " [False False]]\n"
     ]
    }
   ],
   "source": [
    "result = np.any(booleans, axis = 1)\n",
    "print(\"-----any()-----\\n\",result)\n",
    "\n",
    "result = np.all(booleans, axis = 1)\n",
    "print(\"-----all()-----\\n\",result)"
   ]
  },
  {
   "cell_type": "markdown",
   "metadata": {},
   "source": [
    "### EXERCISE 4\n",
    "\n",
    "Create two 4x4 NumPy arrays of random numbers from the range [0,100].\n",
    "Create a boolean mask from the second array, which is 1 for all value more than 50 and 0 otherwise and use it to filtering the first array (replace elements, where mask is 0, with zetos)."
   ]
  },
  {
   "cell_type": "code",
   "execution_count": 79,
   "metadata": {},
   "outputs": [
    {
     "data": {
      "text/plain": [
       "array([[53,  5, 38, 17],\n",
       "       [79,  4, 42, 58],\n",
       "       [31,  1, 65, 41],\n",
       "       [57, 35, 11, 46]])"
      ]
     },
     "execution_count": 79,
     "metadata": {},
     "output_type": "execute_result"
    }
   ],
   "source": [
    "rng_array = np.random.randint(0,100,(4,4))\n",
    "rng_array"
   ]
  },
  {
   "cell_type": "code",
   "execution_count": 100,
   "metadata": {},
   "outputs": [
    {
     "data": {
      "text/plain": [
       "array([[1, 0, 0, 0],\n",
       "       [1, 0, 0, 1],\n",
       "       [0, 0, 1, 0],\n",
       "       [1, 0, 0, 0]])"
      ]
     },
     "execution_count": 100,
     "metadata": {},
     "output_type": "execute_result"
    }
   ],
   "source": [
    "mask = rng_array[:,:] > 50\n",
    "masked = rng_array.copy()\n",
    "\n",
    "masked[mask] = 1\n",
    "masked[mask == False] = 0\n",
    "masked\n"
   ]
  },
  {
   "cell_type": "markdown",
   "metadata": {},
   "source": [
    "### EXERCISE 5\n",
    "\n",
    "Write a  program to compute the mean, median, standard deviation, and variance of a given NumPy array along the second axis and provide several test cases for the programme. Recall the meaning of mentioned statistical characteristics.\n",
    "\n"
   ]
  },
  {
   "cell_type": "code",
   "execution_count": 114,
   "metadata": {},
   "outputs": [],
   "source": [
    "def stats_for_a_sample(array:np.array):\n",
    "    print(\"Mean of the array along second axis\")\n",
    "    print(np.mean(array,axis=1))\n",
    "    print(\"Median of the array along second axis\")\n",
    "    print(np.median(array,axis=1))\n",
    "    print(\"Standard deviation of the array along second axis\")\n",
    "    print(np.std(array,axis=1,ddof=1))\n",
    "    print(\"Variance of the array along second axis\")\n",
    "    print(np.var(array,axis=1,ddof=1))"
   ]
  },
  {
   "cell_type": "code",
   "execution_count": 118,
   "metadata": {},
   "outputs": [
    {
     "data": {
      "text/plain": [
       "array([[-5,  1,  8,  7,  2],\n",
       "       [ 1,  0, -1,  1, -1],\n",
       "       [10, 34, 23, 54,  9]])"
      ]
     },
     "execution_count": 118,
     "metadata": {},
     "output_type": "execute_result"
    }
   ],
   "source": [
    "\"\"\"\n",
    "-5, 1, 8, 7, 2\n",
    "mean = 2.6, median = 2 std = 5.224940191, var = 27.3\n",
    "1,0,-1,1,-1\n",
    "mean = 0, median = 0, std = 1, var = 1\n",
    "10, 34, 23, 54, 9\n",
    "mean = 26, meadian = 23, std = 18.722, variance = 350.500\n",
    "\"\"\"\n",
    "stat_array = np.array([[-5,1,8,7,2],[1,0,-1,1,-1],[10, 34, 23, 54, 9]])\n",
    "stat_array"
   ]
  },
  {
   "cell_type": "code",
   "execution_count": 119,
   "metadata": {},
   "outputs": [
    {
     "name": "stdout",
     "output_type": "stream",
     "text": [
      "Mean of the array along second axis\n",
      "[ 2.6  0.  26. ]\n",
      "Median of the array along second axis\n",
      "[ 2.  0. 23.]\n",
      "Standard deviation of the array along second axis\n",
      "[ 5.22494019  1.         18.72164523]\n",
      "Variance of the array along second axis\n",
      "[ 27.3   1.  350.5]\n"
     ]
    }
   ],
   "source": [
    "stats_for_a_sample(stat_array)"
   ]
  },
  {
   "cell_type": "markdown",
   "metadata": {},
   "source": [
    "### EXERCISE 6\n",
    "\n",
    "Write a  program to calculate the difference between the maximum and the minimum values of a given NumPy array along the all available dimensions.\n",
    "\n",
    "E.g., for a matrix:\n",
    "\n",
    "[[1, 2, 3]\n",
    "\n",
    " [10, 2, 30]\n",
    " \n",
    " [5, 20, 10]]\n",
    " \n",
    " \n",
    "the programme should return:\n",
    "\n",
    "Axis 0: [9, 18, 27]\n",
    "\n",
    "Axis 1: [2, 28, 15]\n"
   ]
  },
  {
   "cell_type": "code",
   "execution_count": 129,
   "metadata": {},
   "outputs": [],
   "source": [
    "min_max_matrix1 = np.array(\n",
    "[[1, 2, 3],\n",
    "[10, 2, 30],\n",
    "[5, 20, 10]]\n",
    ")\n",
    "\n",
    "min_max_matrix2 = np.random.randint(0,100,(3,3,3))"
   ]
  },
  {
   "cell_type": "code",
   "execution_count": 130,
   "metadata": {},
   "outputs": [],
   "source": [
    "def min_max_along_axis(array:np.array):\n",
    "    dimensions = array.ndim\n",
    "    for i in range(dimensions):\n",
    "        print(f\"Axis {i}: {np.max(array,axis=i) - np.min(array,axis=i)}\")"
   ]
  },
  {
   "cell_type": "code",
   "execution_count": 131,
   "metadata": {},
   "outputs": [
    {
     "name": "stdout",
     "output_type": "stream",
     "text": [
      "Axis 0: [ 9 18 27]\n",
      "Axis 1: [ 2 28 15]\n",
      "Axis 0: [[24 24 84]\n",
      " [40 83 96]\n",
      " [43 40 45]]\n",
      "Axis 1: [[15 70 84]\n",
      " [37 60 39]\n",
      " [27 70 96]]\n",
      "Axis 2: [[76 41 48]\n",
      " [54 27 21]\n",
      " [28 95 59]]\n"
     ]
    }
   ],
   "source": [
    "min_max_along_axis(min_max_matrix1)\n",
    "min_max_along_axis(min_max_matrix2)"
   ]
  },
  {
   "cell_type": "markdown",
   "metadata": {},
   "source": [
    "### EXERCISE 7\n",
    "\n",
    "Create a 7x7 NumPy array of random integers and subset all possible 5x5 sub-arrays (including overlapping ones)."
   ]
  },
  {
   "cell_type": "code",
   "execution_count": 13,
   "metadata": {},
   "outputs": [
    {
     "data": {
      "text/plain": [
       "array([[91, 33, 42, 83, 89, 54, 57],\n",
       "       [31, 77, 19, 93, 17, 99, 44],\n",
       "       [79, 31, 25, 49, 14, 50, 61],\n",
       "       [40, 42, 88, 27, 96, 61, 52],\n",
       "       [49, 90, 78, 70, 86, 98, 89],\n",
       "       [72, 97, 77, 81, 19,  3, 60],\n",
       "       [71,  5, 80, 36, 58, 79, 13]])"
      ]
     },
     "execution_count": 13,
     "metadata": {},
     "output_type": "execute_result"
    }
   ],
   "source": [
    "seven = np.random.randint(0,100,(7,7))\n",
    "seven"
   ]
  },
  {
   "cell_type": "code",
   "execution_count": 23,
   "metadata": {},
   "outputs": [],
   "source": [
    "five_sub_arrays = []\n",
    "\n",
    "for row in range(3):\n",
    "    for column in range(3):\n",
    "        five_sub_arrays.append(seven[row:row+5,column:column+5])"
   ]
  },
  {
   "cell_type": "code",
   "execution_count": 24,
   "metadata": {},
   "outputs": [
    {
     "data": {
      "text/plain": [
       "[array([[91, 33, 42, 83, 89],\n",
       "        [31, 77, 19, 93, 17],\n",
       "        [79, 31, 25, 49, 14],\n",
       "        [40, 42, 88, 27, 96],\n",
       "        [49, 90, 78, 70, 86]]),\n",
       " array([[33, 42, 83, 89, 54],\n",
       "        [77, 19, 93, 17, 99],\n",
       "        [31, 25, 49, 14, 50],\n",
       "        [42, 88, 27, 96, 61],\n",
       "        [90, 78, 70, 86, 98]]),\n",
       " array([[42, 83, 89, 54, 57],\n",
       "        [19, 93, 17, 99, 44],\n",
       "        [25, 49, 14, 50, 61],\n",
       "        [88, 27, 96, 61, 52],\n",
       "        [78, 70, 86, 98, 89]]),\n",
       " array([[31, 77, 19, 93, 17],\n",
       "        [79, 31, 25, 49, 14],\n",
       "        [40, 42, 88, 27, 96],\n",
       "        [49, 90, 78, 70, 86],\n",
       "        [72, 97, 77, 81, 19]]),\n",
       " array([[77, 19, 93, 17, 99],\n",
       "        [31, 25, 49, 14, 50],\n",
       "        [42, 88, 27, 96, 61],\n",
       "        [90, 78, 70, 86, 98],\n",
       "        [97, 77, 81, 19,  3]]),\n",
       " array([[19, 93, 17, 99, 44],\n",
       "        [25, 49, 14, 50, 61],\n",
       "        [88, 27, 96, 61, 52],\n",
       "        [78, 70, 86, 98, 89],\n",
       "        [77, 81, 19,  3, 60]]),\n",
       " array([[79, 31, 25, 49, 14],\n",
       "        [40, 42, 88, 27, 96],\n",
       "        [49, 90, 78, 70, 86],\n",
       "        [72, 97, 77, 81, 19],\n",
       "        [71,  5, 80, 36, 58]]),\n",
       " array([[31, 25, 49, 14, 50],\n",
       "        [42, 88, 27, 96, 61],\n",
       "        [90, 78, 70, 86, 98],\n",
       "        [97, 77, 81, 19,  3],\n",
       "        [ 5, 80, 36, 58, 79]]),\n",
       " array([[25, 49, 14, 50, 61],\n",
       "        [88, 27, 96, 61, 52],\n",
       "        [78, 70, 86, 98, 89],\n",
       "        [77, 81, 19,  3, 60],\n",
       "        [80, 36, 58, 79, 13]])]"
      ]
     },
     "execution_count": 24,
     "metadata": {},
     "output_type": "execute_result"
    }
   ],
   "source": [
    "five_sub_arrays"
   ]
  },
  {
   "cell_type": "markdown",
   "metadata": {},
   "source": [
    "### EXERCISE 8\n",
    "\n",
    "Write a program that delete duplicates from a NumPy array and a provided dimension (e.g., duplicate rows). Records are duplicates if all value for all other dimensions are the same. Test the programme for 2D and 3D arrays."
   ]
  },
  {
   "cell_type": "code",
   "execution_count": 46,
   "metadata": {},
   "outputs": [],
   "source": [
    "def remove_duplicates(array:np.array,dimension:int):\n",
    "    removed = np.unique(array, axis = dimension).copy()\n",
    "    return removed"
   ]
  },
  {
   "cell_type": "code",
   "execution_count": 48,
   "metadata": {},
   "outputs": [],
   "source": [
    "data_two = np.array([\n",
    "    [1, 1, 5, 8],\n",
    "    [1, 1, 5, 8],\n",
    "    [6, 6, 3, 4],\n",
    "    [6, 6, 3, 4]\n",
    "    ])\n",
    "\n",
    "data_three = np.array([[\n",
    "    [1, 1, 5, 8],\n",
    "    [1, 1, 5, 8],\n",
    "    [6, 6, 3, 4],\n",
    "    [6, 6, 3, 4]\n",
    "    ],\n",
    "    [\n",
    "    [1, 1, 5, 8],\n",
    "    [1, 1, 5, 8],\n",
    "    [6, 6, 3, 4],\n",
    "    [6, 6, 3, 4]\n",
    "    ]]\n",
    ")\n"
   ]
  },
  {
   "cell_type": "code",
   "execution_count": 55,
   "metadata": {},
   "outputs": [
    {
     "name": "stdout",
     "output_type": "stream",
     "text": [
      "2d duplicate rows removed\n",
      " [[1 1 5 8]\n",
      " [6 6 3 4]]\n",
      "2d duplicate columns removed\n",
      " [[1 5 8]\n",
      " [1 5 8]\n",
      " [6 3 4]\n",
      " [6 3 4]]\n",
      "3d duplicate tables removed\n",
      " [[[1 1 5 8]\n",
      "  [1 1 5 8]\n",
      "  [6 6 3 4]\n",
      "  [6 6 3 4]]]\n",
      "3d duplicate columns removed\n",
      " [[[1 1 5 8]\n",
      "  [6 6 3 4]]\n",
      "\n",
      " [[1 1 5 8]\n",
      "  [6 6 3 4]]]\n",
      "3d duplicate columns removed\n",
      " [[[1 5 8]\n",
      "  [1 5 8]\n",
      "  [6 3 4]\n",
      "  [6 3 4]]\n",
      "\n",
      " [[1 5 8]\n",
      "  [1 5 8]\n",
      "  [6 3 4]\n",
      "  [6 3 4]]]\n"
     ]
    }
   ],
   "source": [
    "print(\"2d duplicate rows removed\\n\",remove_duplicates(data_two,0))\n",
    "print(\"2d duplicate columns removed\\n\",remove_duplicates(data_two,1))\n",
    "print(\"3d duplicate tables removed\\n\",remove_duplicates(data_three,0))\n",
    "print(\"3d duplicate columns removed\\n\",remove_duplicates(data_three,1))\n",
    "print(\"3d duplicate columns removed\\n\",remove_duplicates(data_three,2))\n"
   ]
  },
  {
   "cell_type": "markdown",
   "metadata": {},
   "source": [
    "### EXERCISE 9\n",
    "\n",
    "Illustarate solution of 2-3 systems of linear equations from the \"Mathematics for Data Analytics\" course using np.linalg"
   ]
  },
  {
   "cell_type": "code",
   "execution_count": 57,
   "metadata": {},
   "outputs": [
    {
     "name": "stdout",
     "output_type": "stream",
     "text": [
      "Solution for [[ 2  1 -1]\n",
      " [ 1  0  1]\n",
      " [ 1  1  1]] = [0 4 0] is [ 2.66666667 -4.          1.33333333]\n"
     ]
    }
   ],
   "source": [
    "\"\"\"\n",
    "2x1 +  x2 − x3 = 0\n",
    "x1  +       x3 = 4\n",
    "x1  +  x2 + x3 = 0\n",
    "\"\"\"\n",
    "A = np.array([[2,1,-1],[1,0,1],[1,1,1]])\n",
    "b = np.array([0,4,0])\n",
    "x = np.linalg.solve(A,b)\n",
    "\n",
    "print(f\"Solution for {A} = {b} is {x}\")"
   ]
  },
  {
   "cell_type": "markdown",
   "metadata": {},
   "source": [
    "### EXERCISE 10\n",
    "\n",
    "Load numeric data from the CSV file, utilised in Lab 3 Exercise 9 into a NumPy array and calculate its statistics (by columns)"
   ]
  },
  {
   "cell_type": "code",
   "execution_count": null,
   "metadata": {},
   "outputs": [],
   "source": []
  },
  {
   "cell_type": "markdown",
   "metadata": {},
   "source": [
    "### EXERCISE 11\n",
    "\n",
    "Using the presentations for this week and any image of your choice, illustrate\n",
    "1. Loading of an image into a Numpy array\n",
    "2. Flipping the image (by sorting the array)\n",
    "3. Rotating the image (by transposing)\n",
    "4. Filtering R,G,and B colors\n",
    "5. Clipping a reactangular area the image by slicing\n",
    "6. Grayscaling of the image by different colour weighting schemes - https://www.johndcook.com/blog/2009/08/24/algorithms-convert-color-grayscale/\n",
    "\n"
   ]
  },
  {
   "cell_type": "code",
   "execution_count": null,
   "metadata": {},
   "outputs": [],
   "source": []
  },
  {
   "cell_type": "markdown",
   "metadata": {},
   "source": [
    "### EXERCISE 12\n",
    "\n",
    "Implement the following procedure for the text of \"Alice in Wonderland\" (see the Week 3 presentations):\n",
    "1. Split the text into three pieces with similar number of words: Part1, Part2, Part3\n",
    "2. For every part calculate the relative frequency of each word (number of word occurances divided by number of words in a Part)\n",
    "3. Combine frequencies for all parts into NumPy array (the first dimension should correspond to the number of parts, 3)\n",
    "4. Compare frequencies of word \"alice\" between the parts\n",
    "5. Print 10 words with most significant (maximum) change of frequencies between parts\n",
    "6. Print 10 words with most stable frequency (minimum) between parts\n",
    "\n",
    "If you are interested in text analysis, read about TF-IDF - e.g., https://towardsdatascience.com/tf-idf-for-document-ranking-from-scratch-in-python-on-real-world-dataset-796d339a4089\n"
   ]
  },
  {
   "cell_type": "code",
   "execution_count": null,
   "metadata": {},
   "outputs": [],
   "source": []
  }
 ],
 "metadata": {
  "kernelspec": {
   "display_name": "learning",
   "language": "python",
   "name": "python3"
  },
  "language_info": {
   "codemirror_mode": {
    "name": "ipython",
    "version": 3
   },
   "file_extension": ".py",
   "mimetype": "text/x-python",
   "name": "python",
   "nbconvert_exporter": "python",
   "pygments_lexer": "ipython3",
   "version": "3.10.4"
  }
 },
 "nbformat": 4,
 "nbformat_minor": 2
}
